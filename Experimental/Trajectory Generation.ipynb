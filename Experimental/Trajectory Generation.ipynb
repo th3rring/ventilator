{
 "cells": [
  {
   "cell_type": "code",
   "execution_count": 129,
   "metadata": {},
   "outputs": [],
   "source": [
    "import matplotlib.pyplot as plt\n",
    "import numpy as np"
   ]
  },
  {
   "cell_type": "code",
   "execution_count": 328,
   "metadata": {},
   "outputs": [],
   "source": [
    "x_0 = 0\n",
    "x_s = 2000\n",
    "T_in = 1\n",
    "T_hold = 0.2\n",
    "T_out = 2"
   ]
  },
  {
   "cell_type": "code",
   "execution_count": 329,
   "metadata": {},
   "outputs": [],
   "source": [
    "t = np.arange(0, T_in + T_hold + T_out, 0.01)\n",
    "x = np.arange(0,len(t))\n",
    "x_h = (x_s + x_0)/2\n",
    "\n",
    "v_in = 2*((x_s-x_0)/T_in)\n",
    "a_in = v_in**2/(x_s-x_0)\n",
    "\n",
    "v_out = 2*((x_s-x_0)/T_out)\n",
    "a_out = v_out**2/(x_s-x_0)"
   ]
  },
  {
   "cell_type": "code",
   "execution_count": 330,
   "metadata": {},
   "outputs": [],
   "source": [
    "# Ideal S-curve\n",
    "for i in range(len(t)):\n",
    "    if t[i] < T_in/2:\n",
    "        x[i] = x_0 + a_in*t[i]**2 / 2\n",
    "    elif t[i] >= T_in/2 and t[i] < T_in:\n",
    "        cur_t = t[i] - T_in/2\n",
    "        x[i] = x_h + v_in*cur_t - a_in*cur_t**2/2\n",
    "    elif t[i] >= T_in and t[i] < T_in + T_hold:\n",
    "        x[i] = x_s\n",
    "    elif t[i] >= T_in + T_hold and t[i] < T_in + T_hold + T_out/2:\n",
    "        cur_t = t[i] - (T_in + T_hold)\n",
    "        x[i] = x_s - a_out*cur_t**2 / 2\n",
    "    else:\n",
    "        cur_t = t[i] - (T_in + T_hold + T_out/2)\n",
    "        x[i] = x_h - v_out*cur_t + a_out*cur_t**2/2"
   ]
  },
  {
   "cell_type": "code",
   "execution_count": 331,
   "metadata": {},
   "outputs": [
    {
     "data": {
      "image/png": "[encoded data removed]",
      "text/plain": [
       "<Figure size 432x288 with 1 Axes>"
      ]
     },
     "metadata": {
      "needs_background": "light"
     },
     "output_type": "display_data"
    }
   ],
   "source": [
    "fig, ax = plt.subplots()\n",
    "ax.plot(t, x)\n",
    "\n",
    "ax.grid(True, linestyle='-.')\n",
    "ax.tick_params(labelcolor='r', labelsize='medium', width=3)\n",
    "\n",
    "plt.show()"
   ]
  },
  {
   "cell_type": "code",
   "execution_count": 319,
   "metadata": {},
   "outputs": [
    {
     "data": {
      "text/plain": [
       "array([   0,    0,    0,    0,    1,    2,    3,    4,    6,    8,   10,\n",
       "         12,   14,   16,   19,   22,   25,   28,   32,   36,   40,   44,\n",
       "         48,   52,   57,   62,   67,   72,   78,   84,   90,   96,  102,\n",
       "        108,  115,  122,  129,  136,  144,  152,  160,  168,  176,  184,\n",
       "        193,  202,  211,  220,  230,  240,  250,  260,  270,  280,  291,\n",
       "        302,  313,  324,  336,  348,  360,  372,  384,  396,  409,  422,\n",
       "        435,  448,  462,  476,  490,  504,  518,  532,  547,  562,  577,\n",
       "        592,  608,  624,  640,  656,  672,  688,  705,  722,  739,  756,\n",
       "        774,  792,  810,  828,  846,  864,  883,  902,  921,  940,  960,\n",
       "        980, 1000, 1019, 1039, 1059, 1078, 1097, 1116, 1135, 1153, 1171,\n",
       "       1190, 1207, 1225, 1243, 1260, 1277, 1294, 1311, 1327, 1343, 1360,\n",
       "       1375, 1391, 1407, 1422, 1437, 1452, 1467, 1481, 1495, 1510, 1523,\n",
       "       1537, 1551, 1564, 1577, 1590, 1603, 1615, 1627, 1640, 1651, 1663,\n",
       "       1675, 1686, 1697, 1708, 1719, 1729, 1739, 1750, 1759, 1769, 1779,\n",
       "       1788, 1797, 1806, 1815, 1823, 1831, 1840, 1847, 1855, 1863, 1870,\n",
       "       1877, 1884, 1891, 1897, 1903, 1910, 1915, 1921, 1927, 1932, 1937,\n",
       "       1942, 1947, 1951, 1955, 1960, 1963, 1967, 1971, 1974, 1977, 1980,\n",
       "       1983, 1985, 1987, 1989, 1991, 1993, 1995, 1996, 1997, 1998, 1999,\n",
       "       1999, 1999, 2000, 2000, 2000, 2000, 2000, 2000, 2000, 2000, 2000,\n",
       "       2000, 2000, 2000, 2000, 2000, 2000, 2000, 2000, 2000, 2000, 2000,\n",
       "       2000, 1999, 1999, 1999, 1999, 1998, 1998, 1997, 1997, 1996, 1995,\n",
       "       1994, 1993, 1992, 1991, 1990, 1988, 1987, 1985, 1983, 1982, 1980,\n",
       "       1978, 1976, 1974, 1972, 1969, 1967, 1965, 1962, 1960, 1957, 1954,\n",
       "       1951, 1948, 1945, 1942, 1939, 1935, 1932, 1928, 1925, 1921, 1917,\n",
       "       1913, 1910, 1905, 1901, 1897, 1893, 1888, 1884, 1879, 1875, 1870,\n",
       "       1865, 1860, 1855, 1850, 1845, 1840, 1834, 1829, 1823, 1817, 1812,\n",
       "       1806, 1800, 1794, 1788, 1782, 1775, 1769, 1763, 1756, 1750, 1743,\n",
       "       1736, 1729, 1722, 1715, 1708, 1701, 1693, 1686, 1678, 1671, 1663,\n",
       "       1655, 1647, 1640, 1631, 1623, 1615, 1607, 1598, 1590, 1581, 1573,\n",
       "       1564, 1555, 1546, 1537, 1528, 1519, 1510, 1500, 1491, 1481, 1471,\n",
       "       1462, 1452, 1442, 1432, 1422, 1412, 1401, 1391, 1381, 1370, 1360,\n",
       "       1349, 1338, 1327, 1316, 1305, 1294, 1283, 1271, 1260, 1248, 1237,\n",
       "       1225, 1213, 1201, 1190, 1177, 1165, 1153, 1141, 1128, 1116, 1103,\n",
       "       1091, 1078, 1065, 1052, 1039, 1026, 1013, 1000,  986,  973,  960,\n",
       "        947,  934,  921,  908,  896,  883,  871,  858,  846,  834,  822,\n",
       "        810,  798,  786,  774,  762,  751,  739,  728,  716,  705,  694,\n",
       "        683,  672,  661,  650,  640,  629,  618,  608,  598,  587,  577,\n",
       "        567,  557,  547,  537,  528,  518,  508,  499,  489,  480,  471,\n",
       "        462,  453,  444,  435,  426,  418,  409,  401,  392,  384,  376,\n",
       "        368,  360,  352,  344,  336,  328,  321,  313,  306,  298,  291,\n",
       "        284,  277,  270,  263,  256,  249,  243,  236,  230,  224,  217,\n",
       "        211,  205,  199,  193,  187,  182,  176,  170,  165,  159,  154,\n",
       "        149,  144,  139,  134,  129,  124,  120,  115,  111,  106,  102,\n",
       "         98,   94,   90,   86,   82,   78,   74,   71,   67,   64,   60,\n",
       "         57,   54,   51,   48,   45,   42,   39,   37,   34,   32,   30,\n",
       "         27,   25,   23,   21,   19,   17,   16,   14,   12,   11,   10,\n",
       "          8,    7,    6,    5,    4,    3,    2,    2,    1,    1,    0,\n",
       "          0,    0,    0])"
      ]
     },
     "execution_count": 319,
     "metadata": {},
     "output_type": "execute_result"
    }
   ],
   "source": [
    "x"
   ]
  },
  {
   "cell_type": "code",
   "execution_count": 56,
   "metadata": {},
   "outputs": [
    {
     "data": {
      "text/plain": [
       "999"
      ]
     },
     "execution_count": 56,
     "metadata": {},
     "output_type": "execute_result"
    }
   ],
   "source": [
    "x_1 = 0\n",
    "x_2 = 0\n",
    "#v_s = np.sqrt(a_m * (x_s - x_0))\n",
    "t_1 = v_s/a_m\n",
    "\n"
   ]
  },
  {
   "cell_type": "code",
   "execution_count": 127,
   "metadata": {
    "scrolled": false
   },
   "outputs": [],
   "source": [
    "# Linear formulation\n",
    "for i in range(len(t)):\n",
    "    # Phase 1\n",
    "    if t[i] < t_1:\n",
    "        x[i] = x_0 + a_m * (t[i]**2/2)\n",
    "        x_1 = x[i]\n",
    "    #Phase 2\n",
    "    elif t[i] >= t_1 and t[i] < T - 2*t_1:        \n",
    "        cur_t = t[i] - t_1\n",
    "        x[i] = x_1 + v_s * cur_t\n",
    "        x_2 = x[i]\n",
    "    #Phase 3\n",
    "    elif t[i] >= T - 2*t_1 and t[i] < T:        \n",
    "        cur_t = t[i] - T + 2*t_1\n",
    "        x[i] = x_2 + v_s*cur_t - a_m*(cur_t**2/2)\n"
   ]
  },
  {
   "cell_type": "code",
   "execution_count": null,
   "metadata": {},
   "outputs": [],
   "source": []
  }
 ],
 "metadata": {
  "kernelspec": {
   "display_name": "Python 3",
   "language": "python",
   "name": "python3"
  },
  "language_info": {
   "codemirror_mode": {
    "name": "ipython",
    "version": 3
   },
   "file_extension": ".py",
   "mimetype": "text/x-python",
   "name": "python",
   "nbconvert_exporter": "python",
   "pygments_lexer": "ipython3",
   "version": "3.6.9"
  }
 },
 "nbformat": 4,
 "nbformat_minor": 2
}
