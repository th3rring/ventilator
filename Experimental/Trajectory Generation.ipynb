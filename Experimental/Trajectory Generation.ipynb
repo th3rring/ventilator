{
 "cells": [
  {
   "cell_type": "code",
   "execution_count": 129,
   "metadata": {},
   "outputs": [],
   "source": [
    "import matplotlib.pyplot as plt\n",
    "import numpy as np"
   ]
  },
  {
   "cell_type": "code",
   "execution_count": 353,
   "metadata": {},
   "outputs": [],
   "source": [
    "x_0 = 0\n",
    "x_s = 2000\n",
    "T_in = 2\n",
    "T_hold = 0.5\n",
    "T_out = 2 - T_hold\n",
    "delta_t = 10"
   ]
  },
  {
   "cell_type": "code",
   "execution_count": 354,
   "metadata": {},
   "outputs": [],
   "source": [
    "t = np.arange(0, T_in + T_hold + T_out, delta_t/1000)\n",
    "x = np.arange(0,len(t))\n",
    "x_h = (x_s + x_0)/2\n",
    "\n",
    "v_in = 2*((x_s-x_0)/T_in)\n",
    "a_in = v_in**2/(x_s-x_0)\n",
    "\n",
    "v_out = 2*((x_s-x_0)/T_out)\n",
    "a_out = v_out**2/(x_s-x_0)"
   ]
  },
  {
   "cell_type": "code",
   "execution_count": 345,
   "metadata": {},
   "outputs": [],
   "source": [
    "# Ideal S-curve\n",
    "for i in range(len(t)):\n",
    "    if t[i] < T_in/2:\n",
    "        x[i] = x_0 + a_in*t[i]**2 / 2\n",
    "    elif t[i] >= T_in/2 and t[i] < T_in:\n",
    "        cur_t = t[i] - T_in/2\n",
    "        x[i] = x_h + v_in*cur_t - a_in*cur_t**2/2\n",
    "    elif t[i] >= T_in and t[i] < T_in + T_hold:\n",
    "        x[i] = x_s\n",
    "    elif t[i] >= T_in + T_hold and t[i] < T_in + T_hold + T_out/2:\n",
    "        cur_t = t[i] - (T_in + T_hold)\n",
    "        x[i] = x_s - a_out*cur_t**2 / 2\n",
    "    else:\n",
    "        cur_t = t[i] - (T_in + T_hold + T_out/2)\n",
    "        x[i] = x_h - v_out*cur_t + a_out*cur_t**2/2"
   ]
  },
  {
   "cell_type": "code",
   "execution_count": 355,
   "metadata": {},
   "outputs": [],
   "source": [
    "# Ideal S-curve with ms calculation\n",
    "in_concave = 1000 * (T_in/2)\n",
    "in_convex = 1000*T_in\n",
    "hold_end = 1000*(T_in + T_hold)\n",
    "out_convex = 1000*(T_in + T_hold + T_out/2)\n",
    "\n",
    "\n",
    "for i in range(len(t)):\n",
    "    t_ = delta_t * i\n",
    "    if t_ < in_concave:\n",
    "        \n",
    "        x[i] = x_0 + a_in*(t_/1000.0)**2 / 2\n",
    "        \n",
    "    elif t_ >= in_concave and t_ < in_convex:\n",
    "        \n",
    "        cur_t = (t_ - in_concave)/1000.0\n",
    "        x[i] = x_h + v_in*cur_t - a_in*cur_t**2/2\n",
    "        \n",
    "    elif t_ >= in_convex and t_ < hold_end:\n",
    "        \n",
    "        x[i] = x_s\n",
    "        \n",
    "    elif t_ >= hold_end and t_ < out_convex:\n",
    "        \n",
    "        cur_t = (t_ - hold_end)/1000.0\n",
    "        x[i] = x_s - a_out*cur_t**2 / 2\n",
    "        \n",
    "    else:\n",
    "        \n",
    "        cur_t = (t_ - out_convex)/1000.0\n",
    "        x[i] = x_h - v_out*cur_t + a_out*cur_t**2/2"
   ]
  },
  {
   "cell_type": "code",
   "execution_count": 356,
   "metadata": {},
   "outputs": [
    {
     "data": {
      "image/png": "[encoded data removed]",
      "text/plain": [
       "<Figure size 432x288 with 1 Axes>"
      ]
     },
     "metadata": {
      "needs_background": "light"
     },
     "output_type": "display_data"
    }
   ],
   "source": [
    "fig, ax = plt.subplots()\n",
    "ax.plot(t, x)\n",
    "\n",
    "ax.grid(True, linestyle='-.')\n",
    "ax.tick_params(labelcolor='r', labelsize='medium', width=3)\n",
    "\n",
    "plt.show()"
   ]
  },
  {
   "cell_type": "code",
   "execution_count": 338,
   "metadata": {},
   "outputs": [
    {
     "data": {
      "text/plain": [
       "300"
      ]
     },
     "execution_count": 338,
     "metadata": {},
     "output_type": "execute_result"
    }
   ],
   "source": [
    "len(x)"
   ]
  },
  {
   "cell_type": "code",
   "execution_count": 341,
   "metadata": {},
   "outputs": [
    {
     "data": {
      "text/plain": [
       "300"
      ]
     },
     "execution_count": 341,
     "metadata": {},
     "output_type": "execute_result"
    }
   ],
   "source": [
    "int(3 * (1000/10))"
   ]
  },
  {
   "cell_type": "code",
   "execution_count": 56,
   "metadata": {},
   "outputs": [
    {
     "data": {
      "text/plain": [
       "999"
      ]
     },
     "execution_count": 56,
     "metadata": {},
     "output_type": "execute_result"
    }
   ],
   "source": [
    "x_1 = 0\n",
    "x_2 = 0\n",
    "#v_s = np.sqrt(a_m * (x_s - x_0))\n",
    "t_1 = v_s/a_m\n",
    "\n"
   ]
  },
  {
   "cell_type": "code",
   "execution_count": 127,
   "metadata": {
    "scrolled": false
   },
   "outputs": [],
   "source": [
    "# Linear formulation\n",
    "for i in range(len(t)):\n",
    "    # Phase 1\n",
    "    if t[i] < t_1:\n",
    "        x[i] = x_0 + a_m * (t[i]**2/2)\n",
    "        x_1 = x[i]\n",
    "    #Phase 2\n",
    "    elif t[i] >= t_1 and t[i] < T - 2*t_1:        \n",
    "        cur_t = t[i] - t_1\n",
    "        x[i] = x_1 + v_s * cur_t\n",
    "        x_2 = x[i]\n",
    "    #Phase 3\n",
    "    elif t[i] >= T - 2*t_1 and t[i] < T:        \n",
    "        cur_t = t[i] - T + 2*t_1\n",
    "        x[i] = x_2 + v_s*cur_t - a_m*(cur_t**2/2)\n"
   ]
  },
  {
   "cell_type": "code",
   "execution_count": null,
   "metadata": {},
   "outputs": [],
   "source": []
  }
 ],
 "metadata": {
  "kernelspec": {
   "display_name": "Python 3",
   "language": "python",
   "name": "python3"
  },
  "language_info": {
   "codemirror_mode": {
    "name": "ipython",
    "version": 3
   },
   "file_extension": ".py",
   "mimetype": "text/x-python",
   "name": "python",
   "nbconvert_exporter": "python",
   "pygments_lexer": "ipython3",
   "version": "3.6.9"
  }
 },
 "nbformat": 4,
 "nbformat_minor": 2
}
